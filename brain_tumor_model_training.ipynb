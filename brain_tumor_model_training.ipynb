{
 "cells": [
  {
   "cell_type": "code",
   "execution_count": 1,
   "id": "ce7a4864",
   "metadata": {},
   "outputs": [
    {
     "name": "stdout",
     "output_type": "stream",
     "text": [
      "Requirement already satisfied: torch in a:\\new folder (2)\\lib\\site-packages (2.1.2)\n",
      "Requirement already satisfied: torchvision in a:\\new folder (2)\\lib\\site-packages (0.16.2)\n",
      "Requirement already satisfied: matplotlib in a:\\new folder (2)\\lib\\site-packages (3.7.0)\n",
      "Requirement already satisfied: typing-extensions in a:\\new folder (2)\\lib\\site-packages (from torch) (4.12.2)\n",
      "Requirement already satisfied: networkx in a:\\new folder (2)\\lib\\site-packages (from torch) (2.8.4)\n",
      "Requirement already satisfied: fsspec in a:\\new folder (2)\\lib\\site-packages (from torch) (2023.10.0)\n",
      "Requirement already satisfied: sympy in a:\\new folder (2)\\lib\\site-packages (from torch) (1.11.1)\n",
      "Requirement already satisfied: filelock in a:\\new folder (2)\\lib\\site-packages (from torch) (3.9.0)\n",
      "Requirement already satisfied: jinja2 in a:\\new folder (2)\\lib\\site-packages (from torch) (3.1.2)\n",
      "Requirement already satisfied: requests in a:\\new folder (2)\\lib\\site-packages (from torchvision) (2.31.0)\n",
      "Requirement already satisfied: numpy in a:\\new folder (2)\\lib\\site-packages (from torchvision) (1.23.5)\n",
      "Requirement already satisfied: pillow!=8.3.*,>=5.3.0 in a:\\new folder (2)\\lib\\site-packages (from torchvision) (9.4.0)\n",
      "Requirement already satisfied: packaging>=20.0 in a:\\new folder (2)\\lib\\site-packages (from matplotlib) (24.1)\n",
      "Requirement already satisfied: pyparsing>=2.3.1 in a:\\new folder (2)\\lib\\site-packages (from matplotlib) (3.0.9)\n",
      "Requirement already satisfied: contourpy>=1.0.1 in a:\\new folder (2)\\lib\\site-packages (from matplotlib) (1.0.5)\n",
      "Requirement already satisfied: fonttools>=4.22.0 in a:\\new folder (2)\\lib\\site-packages (from matplotlib) (4.25.0)\n",
      "Requirement already satisfied: python-dateutil>=2.7 in a:\\new folder (2)\\lib\\site-packages (from matplotlib) (2.8.2)\n",
      "Requirement already satisfied: cycler>=0.10 in a:\\new folder (2)\\lib\\site-packages (from matplotlib) (0.11.0)\n",
      "Requirement already satisfied: kiwisolver>=1.0.1 in a:\\new folder (2)\\lib\\site-packages (from matplotlib) (1.4.4)\n",
      "Requirement already satisfied: six>=1.5 in a:\\new folder (2)\\lib\\site-packages (from python-dateutil>=2.7->matplotlib) (1.16.0)\n",
      "Requirement already satisfied: MarkupSafe>=2.0 in a:\\new folder (2)\\lib\\site-packages (from jinja2->torch) (2.1.1)\n",
      "Requirement already satisfied: charset-normalizer<4,>=2 in a:\\new folder (2)\\lib\\site-packages (from requests->torchvision) (2.0.4)\n",
      "Requirement already satisfied: idna<4,>=2.5 in a:\\new folder (2)\\lib\\site-packages (from requests->torchvision) (3.4)\n",
      "Requirement already satisfied: certifi>=2017.4.17 in a:\\new folder (2)\\lib\\site-packages (from requests->torchvision) (2022.12.7)\n",
      "Requirement already satisfied: urllib3<3,>=1.21.1 in a:\\new folder (2)\\lib\\site-packages (from requests->torchvision) (2.0.5)\n",
      "Requirement already satisfied: mpmath>=0.19 in a:\\new folder (2)\\lib\\site-packages (from sympy->torch) (1.2.1)\n",
      "Note: you may need to restart the kernel to use updated packages.\n"
     ]
    }
   ],
   "source": [
    "pip install torch torchvision matplotlib"
   ]
  },
  {
   "cell_type": "code",
   "execution_count": 2,
   "id": "7d7cee2a",
   "metadata": {},
   "outputs": [],
   "source": [
    "import torch\n",
    "from torch import nn, optim\n",
    "from torchvision import datasets, transforms\n",
    "from torch.utils.data import DataLoader"
   ]
  },
  {
   "cell_type": "code",
   "execution_count": 3,
   "id": "6a63e079",
   "metadata": {},
   "outputs": [],
   "source": [
    "device = torch.device('cuda' if torch.cuda.is_available() else 'cpu')"
   ]
  },
  {
   "cell_type": "code",
   "execution_count": 4,
   "id": "d6c7b91a",
   "metadata": {},
   "outputs": [
    {
     "data": {
      "text/plain": [
       "device(type='cpu')"
      ]
     },
     "execution_count": 4,
     "metadata": {},
     "output_type": "execute_result"
    }
   ],
   "source": [
    "device"
   ]
  },
  {
   "cell_type": "code",
   "execution_count": 5,
   "id": "a950521a",
   "metadata": {},
   "outputs": [],
   "source": [
    "tf=transforms.Compose([\n",
    "    transforms.Resize((128,128)),\n",
    "    transforms.ToTensor(),\n",
    "    transforms.Normalize([0.5, 0.5, 0.5],[0.5, 0.5, 0.5])\n",
    "])"
   ]
  },
  {
   "cell_type": "code",
   "execution_count": 6,
   "id": "5d6f5432",
   "metadata": {},
   "outputs": [],
   "source": [
    "train_dl=DataLoader(\n",
    "    datasets.ImageFolder('data/Training',tf),\n",
    "    batch_size=32, shuffle=True, num_workers=4, pin_memory=True\n",
    ")\n",
    "\n",
    "\n",
    "test_dl=DataLoader(\n",
    "    datasets.ImageFolder('data/Testing',tf),\n",
    "    batch_size=32, shuffle=False, num_workers=4, pin_memory=True\n",
    ")"
   ]
  },
  {
   "cell_type": "code",
   "execution_count": 7,
   "id": "5d2015a6",
   "metadata": {},
   "outputs": [
    {
     "data": {
      "text/plain": [
       "<torch.utils.data.dataloader.DataLoader at 0x1f8ba09cb20>"
      ]
     },
     "execution_count": 7,
     "metadata": {},
     "output_type": "execute_result"
    }
   ],
   "source": [
    "train_dl"
   ]
  },
  {
   "cell_type": "code",
   "execution_count": 8,
   "id": "f3d7b137",
   "metadata": {},
   "outputs": [],
   "source": [
    "model=nn.Sequential(\n",
    "    nn.Conv2d(3, 32,3,1,1),nn.ReLU(),nn.MaxPool2d(2),\n",
    "    nn.Conv2d(32, 64,3,1,1),nn.ReLU(),nn.MaxPool2d(2),\n",
    "    nn.Conv2d(64, 128,3,1,1),nn.ReLU(),nn.MaxPool2d(2),\n",
    "    nn.Flatten(),\n",
    "    nn.Linear(128*16*16,256),nn.ReLU(),nn.Dropout(0.5),\n",
    "    nn.Linear(256,4)\n",
    ").to(device)"
   ]
  },
  {
   "cell_type": "code",
   "execution_count": 9,
   "id": "02e0be83",
   "metadata": {},
   "outputs": [],
   "source": [
    "opt=optim.AdamW(model.parameters())\n",
    "loss_fn=nn.CrossEntropyLoss()"
   ]
  },
  {
   "cell_type": "code",
   "execution_count": 10,
   "id": "aebc5647",
   "metadata": {},
   "outputs": [
    {
     "name": "stdout",
     "output_type": "stream",
     "text": [
      "Epoch 1: Loss was 117.19095611572266\n",
      "Epoch 2: Loss was 67.69306182861328\n",
      "Epoch 3: Loss was 44.853416442871094\n",
      "Epoch 4: Loss was 32.49208450317383\n",
      "Epoch 5: Loss was 26.159465789794922\n",
      "Epoch 6: Loss was 19.285266876220703\n",
      "Epoch 7: Loss was 14.52657699584961\n",
      "Epoch 8: Loss was 14.338025093078613\n",
      "Epoch 9: Loss was 8.781617164611816\n",
      "Epoch 10: Loss was 9.031197547912598\n",
      "Epoch 11: Loss was 6.418173789978027\n",
      "Epoch 12: Loss was 6.080014705657959\n",
      "Epoch 13: Loss was 5.472994327545166\n",
      "Epoch 14: Loss was 5.6801934242248535\n",
      "Epoch 15: Loss was 5.118819236755371\n",
      "Epoch 16: Loss was 5.1695237159729\n",
      "Epoch 17: Loss was 4.958931922912598\n",
      "Epoch 18: Loss was 3.6825435161590576\n"
     ]
    }
   ],
   "source": [
    "model.train()\n",
    "\n",
    "for epoch in range(18):\n",
    "    running_loss=0\n",
    "    \n",
    "    for x,y in train_dl:\n",
    "        opt.zero_grad()\n",
    "        \n",
    "        loss=loss_fn(model(x.to(device)),y.to(device))\n",
    "        loss.backward()\n",
    "        \n",
    "        running_loss+=loss\n",
    "        opt.step()\n",
    "    print(f'Epoch {epoch+1}: Loss was {running_loss}')"
   ]
  },
  {
   "cell_type": "code",
   "execution_count": 11,
   "id": "f75a242d",
   "metadata": {},
   "outputs": [
    {
     "name": "stdout",
     "output_type": "stream",
     "text": [
      "Test Loss: 0.11349023483295625 Test Accuracy 97.17772692601068\n"
     ]
    }
   ],
   "source": [
    "model.eval()\n",
    "test_loss, correct=0.0,0\n",
    "\n",
    "with torch.no_grad():\n",
    "    for x, y in test_dl:\n",
    "        x,y=x.to(device),y.to(device)\n",
    "        \n",
    "        logits=model(x)\n",
    "        test_loss+=loss_fn(logits,y).item()*y.size(0)\n",
    "        \n",
    "        preds=logits.argmax(dim=1)\n",
    "        correct+=(preds==y).sum().item()\n",
    "        \n",
    "test_loss/=len(test_dl.dataset)\n",
    "accuracy=100.0*correct/len(test_dl.dataset)\n",
    "\n",
    "print('Test Loss:', test_loss, 'Test Accuracy', accuracy,)"
   ]
  },
  {
   "cell_type": "code",
   "execution_count": 12,
   "id": "35415f75",
   "metadata": {},
   "outputs": [
    {
     "name": "stdout",
     "output_type": "stream",
     "text": [
      "Model saved successfully!\n"
     ]
    }
   ],
   "source": [
    "import torch\n",
    "\n",
    "# Save the entire model\n",
    "torch.save(model, 'brain_tumor_model.pth')\n",
    "\n",
    "# Or save just the state dictionary (recommended)\n",
    "torch.save(model.state_dict(), 'brain_tumor_model_weights.pth')\n",
    "\n",
    "# Also save the class names for later use\n",
    "import pickle\n",
    "class_names = train_dl.dataset.classes\n",
    "with open('class_names.pkl', 'wb') as f:\n",
    "    pickle.dump(class_names, f)\n",
    "\n",
    "print(\"Model saved successfully!\")\n"
   ]
  },
  {
   "cell_type": "code",
   "execution_count": null,
   "id": "92400f20",
   "metadata": {},
   "outputs": [],
   "source": [
    "import random\n",
    "import matplotlib.pyplot as plt\n",
    "from torchvision.transforms.functional import to_pil_image\n",
    "\n",
    "\n",
    "model.eval()\n",
    "\n",
    "idx= random.randrange(len(test_dl.dataset))\n",
    "img,label=test_dl.dataset[idx]\n",
    "\n",
    "unnorm=img*0.5+0.5\n",
    "plt.imshow(to_pil_image(unnorm))\n",
    "plt.axis('off')\n",
    "plt.title('Sample from test set')\n",
    "plt.show()\n",
    "\n",
    "\n",
    "with torch.no_grad():\n",
    "    logits=model(img.unsqueeze(0).to(device))\n",
    "    pred=logits.argmax(1).item()\n",
    "    \n",
    "class_names=test_dl.dataset.classes\n",
    "print(f'Predicted class:{class_names[pred]}')\n",
    "print(f'Ground-truth: {class_names[label]}')"
   ]
  },
  {
   "cell_type": "code",
   "execution_count": null,
   "id": "7e500a2e",
   "metadata": {},
   "outputs": [],
   "source": []
  }
 ],
 "metadata": {
  "kernelspec": {
   "display_name": "Python 3 (ipykernel)",
   "language": "python",
   "name": "python3"
  },
  "language_info": {
   "codemirror_mode": {
    "name": "ipython",
    "version": 3
   },
   "file_extension": ".py",
   "mimetype": "text/x-python",
   "name": "python",
   "nbconvert_exporter": "python",
   "pygments_lexer": "ipython3",
   "version": "3.10.9"
  }
 },
 "nbformat": 4,
 "nbformat_minor": 5
}
